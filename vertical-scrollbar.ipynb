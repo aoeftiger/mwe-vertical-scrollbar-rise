{
 "cells": [
  {
   "cell_type": "code",
   "execution_count": 1,
   "id": "64f7f977",
   "metadata": {},
   "outputs": [
    {
     "name": "stdout",
     "output_type": "stream",
     "text": [
      "this\n",
      ".\n",
      ".\n",
      ".\n",
      "is\n",
      ".\n",
      ".\n",
      ".\n",
      "an\n",
      ".\n",
      ".\n",
      ".\n",
      "overful\n",
      ".\n",
      ".\n",
      ".\n",
      "cell\n",
      ".\n",
      ".\n",
      ".\n",
      "including\n",
      ".\n",
      ".\n",
      ".\n",
      "print-out\n",
      ".\n",
      ".\n",
      ".\n"
     ]
    }
   ],
   "source": [
    "print ('this\\n.\\n.\\n.')\n",
    "\n",
    "print ('is\\n.\\n.\\n.')\n",
    "\n",
    "print ('an\\n.\\n.\\n.')\n",
    "\n",
    "print ('overful\\n.\\n.\\n.')\n",
    "\n",
    "print ('cell\\n.\\n.\\n.')\n",
    "\n",
    "print ('including\\n.\\n.\\n.')\n",
    "\n",
    "print ('print-out\\n.\\n.\\n.')"
   ]
  }
 ],
 "metadata": {
  "kernelspec": {
   "display_name": "Python 3 (ipykernel)",
   "language": "python",
   "name": "python3"
  },
  "language_info": {
   "codemirror_mode": {
    "name": "ipython",
    "version": 3
   },
   "file_extension": ".py",
   "mimetype": "text/x-python",
   "name": "python",
   "nbconvert_exporter": "python",
   "pygments_lexer": "ipython3",
   "version": "3.8.0"
  },
  "rise": {
   "scroll": true
  }
 },
 "nbformat": 4,
 "nbformat_minor": 5
}
